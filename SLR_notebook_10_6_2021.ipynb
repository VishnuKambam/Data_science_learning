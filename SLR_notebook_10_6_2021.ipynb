{
 "cells": [
  {
   "cell_type": "code",
   "execution_count": 1,
   "id": "3cfb2184",
   "metadata": {
    "scrolled": true
   },
   "outputs": [
    {
     "data": {
      "text/html": [
       "<div>\n",
       "<style scoped>\n",
       "    .dataframe tbody tr th:only-of-type {\n",
       "        vertical-align: middle;\n",
       "    }\n",
       "\n",
       "    .dataframe tbody tr th {\n",
       "        vertical-align: top;\n",
       "    }\n",
       "\n",
       "    .dataframe thead th {\n",
       "        text-align: right;\n",
       "    }\n",
       "</style>\n",
       "<table border=\"1\" class=\"dataframe\">\n",
       "  <thead>\n",
       "    <tr style=\"text-align: right;\">\n",
       "      <th></th>\n",
       "      <th>TV</th>\n",
       "      <th>Radio</th>\n",
       "      <th>Newspaper</th>\n",
       "      <th>Sales</th>\n",
       "    </tr>\n",
       "  </thead>\n",
       "  <tbody>\n",
       "    <tr>\n",
       "      <th>0</th>\n",
       "      <td>230.1</td>\n",
       "      <td>37.8</td>\n",
       "      <td>69.2</td>\n",
       "      <td>22.1</td>\n",
       "    </tr>\n",
       "    <tr>\n",
       "      <th>1</th>\n",
       "      <td>44.5</td>\n",
       "      <td>39.3</td>\n",
       "      <td>45.1</td>\n",
       "      <td>10.4</td>\n",
       "    </tr>\n",
       "    <tr>\n",
       "      <th>2</th>\n",
       "      <td>17.2</td>\n",
       "      <td>45.9</td>\n",
       "      <td>69.3</td>\n",
       "      <td>12.0</td>\n",
       "    </tr>\n",
       "    <tr>\n",
       "      <th>3</th>\n",
       "      <td>151.5</td>\n",
       "      <td>41.3</td>\n",
       "      <td>58.5</td>\n",
       "      <td>16.5</td>\n",
       "    </tr>\n",
       "    <tr>\n",
       "      <th>4</th>\n",
       "      <td>180.8</td>\n",
       "      <td>10.8</td>\n",
       "      <td>58.4</td>\n",
       "      <td>17.9</td>\n",
       "    </tr>\n",
       "    <tr>\n",
       "      <th>...</th>\n",
       "      <td>...</td>\n",
       "      <td>...</td>\n",
       "      <td>...</td>\n",
       "      <td>...</td>\n",
       "    </tr>\n",
       "    <tr>\n",
       "      <th>195</th>\n",
       "      <td>38.2</td>\n",
       "      <td>3.7</td>\n",
       "      <td>13.8</td>\n",
       "      <td>7.6</td>\n",
       "    </tr>\n",
       "    <tr>\n",
       "      <th>196</th>\n",
       "      <td>94.2</td>\n",
       "      <td>4.9</td>\n",
       "      <td>8.1</td>\n",
       "      <td>14.0</td>\n",
       "    </tr>\n",
       "    <tr>\n",
       "      <th>197</th>\n",
       "      <td>177.0</td>\n",
       "      <td>9.3</td>\n",
       "      <td>6.4</td>\n",
       "      <td>14.8</td>\n",
       "    </tr>\n",
       "    <tr>\n",
       "      <th>198</th>\n",
       "      <td>283.6</td>\n",
       "      <td>42.0</td>\n",
       "      <td>66.2</td>\n",
       "      <td>25.5</td>\n",
       "    </tr>\n",
       "    <tr>\n",
       "      <th>199</th>\n",
       "      <td>232.1</td>\n",
       "      <td>8.6</td>\n",
       "      <td>8.7</td>\n",
       "      <td>18.4</td>\n",
       "    </tr>\n",
       "  </tbody>\n",
       "</table>\n",
       "<p>200 rows × 4 columns</p>\n",
       "</div>"
      ],
      "text/plain": [
       "        TV  Radio  Newspaper  Sales\n",
       "0    230.1   37.8       69.2   22.1\n",
       "1     44.5   39.3       45.1   10.4\n",
       "2     17.2   45.9       69.3   12.0\n",
       "3    151.5   41.3       58.5   16.5\n",
       "4    180.8   10.8       58.4   17.9\n",
       "..     ...    ...        ...    ...\n",
       "195   38.2    3.7       13.8    7.6\n",
       "196   94.2    4.9        8.1   14.0\n",
       "197  177.0    9.3        6.4   14.8\n",
       "198  283.6   42.0       66.2   25.5\n",
       "199  232.1    8.6        8.7   18.4\n",
       "\n",
       "[200 rows x 4 columns]"
      ]
     },
     "execution_count": 1,
     "metadata": {},
     "output_type": "execute_result"
    }
   ],
   "source": [
    "# Importing numpy and pandas libraries to read the data\n",
    "\n",
    "# Supress Warnings\n",
    "import warnings\n",
    "warnings.filterwarnings('ignore')\n",
    "\n",
    "# Import the numpy and pandas package\n",
    "import numpy as np\n",
    "import pandas as pd\n",
    "\n",
    "# Read the given CSV file, and view some sample records\n",
    "advertising = pd.read_csv(\"Company_data.csv\")\n",
    "\n",
    "advertising\n",
    "\n",
    "# Sales in thousand units\n",
    "# Advertisement in thousand dollars"
   ]
  },
  {
   "cell_type": "code",
   "execution_count": 2,
   "id": "42f883d2",
   "metadata": {},
   "outputs": [],
   "source": [
    "# Uncomment to learn more about pd.read_csv\n",
    "#?pd.read_csv"
   ]
  },
  {
   "cell_type": "code",
   "execution_count": 3,
   "id": "ea2349dc",
   "metadata": {},
   "outputs": [
    {
     "name": "stdout",
     "output_type": "stream",
     "text": [
      "<class 'pandas.core.frame.DataFrame'>\n",
      "RangeIndex: 200 entries, 0 to 199\n",
      "Data columns (total 4 columns):\n",
      " #   Column     Non-Null Count  Dtype  \n",
      "---  ------     --------------  -----  \n",
      " 0   TV         200 non-null    float64\n",
      " 1   Radio      200 non-null    float64\n",
      " 2   Newspaper  200 non-null    float64\n",
      " 3   Sales      200 non-null    float64\n",
      "dtypes: float64(4)\n",
      "memory usage: 6.4 KB\n"
     ]
    },
    {
     "data": {
      "text/html": [
       "<div>\n",
       "<style scoped>\n",
       "    .dataframe tbody tr th:only-of-type {\n",
       "        vertical-align: middle;\n",
       "    }\n",
       "\n",
       "    .dataframe tbody tr th {\n",
       "        vertical-align: top;\n",
       "    }\n",
       "\n",
       "    .dataframe thead th {\n",
       "        text-align: right;\n",
       "    }\n",
       "</style>\n",
       "<table border=\"1\" class=\"dataframe\">\n",
       "  <thead>\n",
       "    <tr style=\"text-align: right;\">\n",
       "      <th></th>\n",
       "      <th>TV</th>\n",
       "      <th>Radio</th>\n",
       "      <th>Newspaper</th>\n",
       "      <th>Sales</th>\n",
       "    </tr>\n",
       "  </thead>\n",
       "  <tbody>\n",
       "    <tr>\n",
       "      <th>count</th>\n",
       "      <td>200.000000</td>\n",
       "      <td>200.000000</td>\n",
       "      <td>200.000000</td>\n",
       "      <td>200.000000</td>\n",
       "    </tr>\n",
       "    <tr>\n",
       "      <th>mean</th>\n",
       "      <td>147.042500</td>\n",
       "      <td>23.264000</td>\n",
       "      <td>30.554000</td>\n",
       "      <td>15.130500</td>\n",
       "    </tr>\n",
       "    <tr>\n",
       "      <th>std</th>\n",
       "      <td>85.854236</td>\n",
       "      <td>14.846809</td>\n",
       "      <td>21.778621</td>\n",
       "      <td>5.283892</td>\n",
       "    </tr>\n",
       "    <tr>\n",
       "      <th>min</th>\n",
       "      <td>0.700000</td>\n",
       "      <td>0.000000</td>\n",
       "      <td>0.300000</td>\n",
       "      <td>1.600000</td>\n",
       "    </tr>\n",
       "    <tr>\n",
       "      <th>25%</th>\n",
       "      <td>74.375000</td>\n",
       "      <td>9.975000</td>\n",
       "      <td>12.750000</td>\n",
       "      <td>11.000000</td>\n",
       "    </tr>\n",
       "    <tr>\n",
       "      <th>50%</th>\n",
       "      <td>149.750000</td>\n",
       "      <td>22.900000</td>\n",
       "      <td>25.750000</td>\n",
       "      <td>16.000000</td>\n",
       "    </tr>\n",
       "    <tr>\n",
       "      <th>75%</th>\n",
       "      <td>218.825000</td>\n",
       "      <td>36.525000</td>\n",
       "      <td>45.100000</td>\n",
       "      <td>19.050000</td>\n",
       "    </tr>\n",
       "    <tr>\n",
       "      <th>max</th>\n",
       "      <td>296.400000</td>\n",
       "      <td>49.600000</td>\n",
       "      <td>114.000000</td>\n",
       "      <td>27.000000</td>\n",
       "    </tr>\n",
       "  </tbody>\n",
       "</table>\n",
       "</div>"
      ],
      "text/plain": [
       "               TV       Radio   Newspaper       Sales\n",
       "count  200.000000  200.000000  200.000000  200.000000\n",
       "mean   147.042500   23.264000   30.554000   15.130500\n",
       "std     85.854236   14.846809   21.778621    5.283892\n",
       "min      0.700000    0.000000    0.300000    1.600000\n",
       "25%     74.375000    9.975000   12.750000   11.000000\n",
       "50%    149.750000   22.900000   25.750000   16.000000\n",
       "75%    218.825000   36.525000   45.100000   19.050000\n",
       "max    296.400000   49.600000  114.000000   27.000000"
      ]
     },
     "execution_count": 3,
     "metadata": {},
     "output_type": "execute_result"
    }
   ],
   "source": [
    "# Shape of our dataset\n",
    "advertising.shape\n",
    "\n",
    "# Info our dataset\n",
    "advertising.info()\n",
    "\n",
    "# Describe our dataset\n",
    "advertising.describe()"
   ]
  },
  {
   "cell_type": "code",
   "execution_count": 4,
   "id": "55c6b163",
   "metadata": {},
   "outputs": [
    {
     "data": {
      "image/png": "[encoded data removed]",
      "text/plain": [
       "<Figure size 864x288 with 3 Axes>"
      ]
     },
     "metadata": {
      "needs_background": "light"
     },
     "output_type": "display_data"
    }
   ],
   "source": [
    "\n",
    "# Import matplotlib and seaborn libraries to visualize the data\n",
    "import matplotlib.pyplot as plt \n",
    "import seaborn as sns\n",
    "\n",
    "# Using pairplot we'll visualize the data for correlation\n",
    "sns.pairplot(advertising, x_vars=['TV', 'Radio','Newspaper'], \n",
    "             y_vars='Sales', size=4, aspect=1, kind='reg')\n",
    "#sns.pairplot(advertising, size=4, aspect=1, kind='scatter')\n",
    "plt.show()"
   ]
  },
  {
   "cell_type": "code",
   "execution_count": null,
   "id": "1f13a187",
   "metadata": {},
   "outputs": [],
   "source": [
    "?sns.pairplot"
   ]
  },
  {
   "cell_type": "code",
   "execution_count": 5,
   "id": "a600a7cc",
   "metadata": {},
   "outputs": [
    {
     "data": {
      "image/png": "[encoded data removed]",
      "text/plain": [
       "<Figure size 432x288 with 2 Axes>"
      ]
     },
     "metadata": {
      "needs_background": "light"
     },
     "output_type": "display_data"
    }
   ],
   "source": [
    "\n",
    "# Visualizing the data using heatmap\n",
    "sns.heatmap(advertising.corr(), cmap=\"YlGnBu\", annot = True)\n",
    "plt.show()"
   ]
  },
  {
   "cell_type": "code",
   "execution_count": 6,
   "id": "9629b998",
   "metadata": {},
   "outputs": [],
   "source": [
    "from sklearn.model_selection import train_test_split\n",
    "# Creating X and y\n",
    "X = advertising['TV']\n",
    "y = advertising['Sales']"
   ]
  },
  {
   "cell_type": "code",
   "execution_count": 11,
   "id": "d1654152",
   "metadata": {},
   "outputs": [],
   "source": [
    "# Splitting the varaibles as training and testing\n",
    "# 140 samples for constructing beta_0 and beta_1\n",
    "# 60 samples as an additional evaluation performance measure (with R^2 and R^2_adj)\n",
    "from sklearn.model_selection import train_test_split\n",
    "X_train, X_test, y_train, y_test = train_test_split(X, y, train_size = 0.7, test_size = 0.3, random_state=1)\n",
    "\n",
    "\n",
    "# Importing Statsmodels.api library from Stamodel package\n",
    "import statsmodels.api as sm\n",
    "\n",
    "# Adding a constant to get an intercept\n",
    "X_train_sm = sm.add_constant(X_train)"
   ]
  },
  {
   "cell_type": "code",
   "execution_count": 61,
   "id": "b85ad85b",
   "metadata": {
    "scrolled": true
   },
   "outputs": [
    {
     "name": "stdout",
     "output_type": "stream",
     "text": [
      "Optimal lambda is 0.93\n"
     ]
    },
    {
     "data": {
      "image/png": "[encoded data removed]",
      "text/plain": [
       "<Figure size 432x288 with 1 Axes>"
      ]
     },
     "metadata": {
      "needs_background": "light"
     },
     "output_type": "display_data"
    }
   ],
   "source": [
    "def boxcox_trans(y,lmbda):\n",
    "    if np.abs(lmbda) == 0:\n",
    "        return np.log(y)\n",
    "    z = (y**lmbda-1)/lmbda\n",
    "    return z\n",
    "\n",
    "def logL(SSE,lmbda,y):\n",
    "    n = len(y)\n",
    "    L = -n/2*np.log(SSE/n) + (lmbda-1)*np.sum(np.log(y))\n",
    "    # SSE = np.sum((z-z_pred)**2)\n",
    "    #print(SSE)\n",
    "    return L\n",
    "\n",
    "def SSE_func(y,X,beta,lmbda):\n",
    "    z_pred = np.matmul(X,beta)\n",
    "    z = boxcox_trans(y,lmbda)\n",
    "    res = z-z_pred\n",
    "    return np.sum(res**2)\n",
    "\n",
    "def y_pred(mdl,X,lmbda):\n",
    "    z_pred = mdl.predict(X)\n",
    "    if lmbd == 0:\n",
    "        return np.exp(z_pred)\n",
    "    return (lmbda*z_pred+1)**(1/lmbda)\n",
    "\n",
    "def y_trans(z,lmbda):\n",
    "    if lmbd == 0:\n",
    "        return np.exp(z_pred)\n",
    "    return (lmbda*z_pred+1)**(1/lmbda)\n",
    "\n",
    "# Box-cox cell\n",
    "lmbda_list = np.arange(-2,4,.01)\n",
    "\n",
    "K = len(lmbda_list)\n",
    "\n",
    "L = np.empty([K,1])\n",
    "SSE = np.empty([K,1])\n",
    "\n",
    "j = 0\n",
    "for lmbda in lmbda_list:\n",
    "    \n",
    "    # Step 1: Apply boxcox transformation\n",
    "    z_train = boxcox_trans(y_train.values,lmbda)\n",
    "    \n",
    "    # Step 2: Calculate the beta parameters and run OLS on z_train\n",
    "    lr = sm.OLS(z_train,X_train_sm).fit()\n",
    "    \n",
    "    # Step 3: Calculate SSE\n",
    "    SSE[j] = SSE_func(y_train,X_train_sm,lr.params,lmbda)\n",
    "    \n",
    "    # Step 4: Calculate Log-likeihood\n",
    "    L[j] = logL(SSE[j],lmbda,y_train)\n",
    "    \n",
    "    j = j +1\n",
    "    \n",
    "plt.plot(lmbda_list,L)\n",
    "plt.xlabel('Lambda')\n",
    "plt.ylabel('Log-likelihood')\n",
    "\n",
    "# Step 5: Select the best performing log-likelihood\n",
    "lmbda = lmbda_list[np.where(L==np.max(L))[0]]\n",
    "print('Optimal lambda is ' + str(np.round(lmbda[0],3)))"
   ]
  },
  {
   "cell_type": "code",
   "execution_count": null,
   "id": "e6a4c3e2",
   "metadata": {},
   "outputs": [],
   "source": [
    "#?train_test_split"
   ]
  },
  {
   "cell_type": "code",
   "execution_count": null,
   "id": "a6af6d2c",
   "metadata": {},
   "outputs": [],
   "source": [
    "# Fitting the resgression line using 'OLS'\n",
    "lr = sm.OLS(y_train,X_train_sm).fit()\n",
    "\n",
    "# Printing the parameters\n",
    "lr.params\n",
    "\n",
    "# y = beta_0*1 + beta_1*x"
   ]
  },
  {
   "cell_type": "code",
   "execution_count": null,
   "id": "c4f1d7ae",
   "metadata": {},
   "outputs": [],
   "source": [
    "beta_0 = lr.params[0]\n",
    "beta_1 = lr.params[1]\n",
    "\n",
    "y_pred = beta_0*1 + beta_1*X_train\n",
    "\n",
    "df = pd.DataFrame()\n",
    "\n",
    "df['X'] = X_train\n",
    "df['Y'] = y_train\n",
    "df['beta_0'] = beta_0\n",
    "df['beta_1'] = beta_1\n",
    "df['beta_1*X'] = beta_1*X_train\n",
    "df['Y_hat'] = y_pred\n",
    "df['Res'] = y_train-y_pred\n",
    "df['Res_squared'] = (y_train-y_pred)**2 \n",
    "n_train = len(X_train)\n",
    "df['MSE'] = np.sum((y_train-y_pred)**2)/(n_train-2)\n",
    "df"
   ]
  },
  {
   "cell_type": "code",
   "execution_count": null,
   "id": "52767991",
   "metadata": {},
   "outputs": [],
   "source": [
    "# Performing a summary to list out all the different parameters of the regression line fitted\n",
    "lr.summary()"
   ]
  },
  {
   "cell_type": "code",
   "execution_count": null,
   "id": "335797b8",
   "metadata": {},
   "outputs": [],
   "source": [
    "#?sm.OLS"
   ]
  },
  {
   "cell_type": "code",
   "execution_count": null,
   "id": "bf7002af",
   "metadata": {},
   "outputs": [],
   "source": [
    "# Visualizing the regression line\n",
    "plt.scatter(X_train, y_train)\n",
    "plt.plot(X_train, lr.params[0] + lr.params[1]*X_train, 'r')\n",
    "plt.ylabel('Sales (Training)', fontsize=12)\n",
    "plt.xlabel('TV Advertisements (Training)', fontsize=12)\n",
    "plt.show()"
   ]
  },
  {
   "cell_type": "code",
   "execution_count": null,
   "id": "2c4a175d",
   "metadata": {},
   "outputs": [],
   "source": [
    "# Predicting y_value using traingn data of X\n",
    "y_train_pred = lr.predict(X_train_sm)\n",
    "\n",
    "# Creating residuals from the y_train data and predicted y_data\n",
    "res = (y_train - y_train_pred)\n",
    "\n",
    "# Visualizing the confidence interval\n",
    "from scipy import stats\n",
    "n = len(res)\n",
    "SSE = np.sum(res**2)\n",
    "MSE = SSE/(n-2)\n",
    "y_pred = lr.params[0] + lr.params[1]*X_train\n",
    "\n",
    "# Misc values\n",
    "t_fac = stats.t.ppf(1-0.025, 138)\n",
    "x_bar = np.mean(X_train)\n",
    "s_xx = np.sum((X_train-x_bar)**2)\n",
    "\n",
    "c_low_train = y_train_pred - t_fac*np.sqrt(MSE)*np.sqrt(1/n+(X_train-x_bar)**2/s_xx)\n",
    "c_up_train = y_train_pred + t_fac*np.sqrt(MSE)*np.sqrt(1/n+(X_train-x_bar)**2/s_xx)\n",
    "\n",
    "p_low_train = y_train_pred - t_fac*np.sqrt(MSE)*np.sqrt(1+1/n+(X_train-x_bar)**2/s_xx)\n",
    "p_up_train = y_train_pred + t_fac*np.sqrt(MSE)*np.sqrt(1+1/n+(X_train-x_bar)**2/s_xx)\n",
    "\n",
    "plt.scatter(X_train, y_train)\n",
    "plt.plot(X_train, y_train_pred, 'g')\n",
    "plt.plot(X_train, c_low_train, 'r-.')\n",
    "plt.plot(X_train, p_low_train, 'k-.')\n",
    "plt.ylabel('Sales (Training)', fontsize=12)\n",
    "plt.xlabel('TV Advertisements (Training)', fontsize=12)\n",
    "plt.legend(['Regression Line','95% CI', '95% PI','Observed'],fontsize=12)\n",
    "plt.plot(X_train, c_up_train, 'r-.')\n",
    "plt.plot(X_train, p_up_train, 'k-.')\n",
    "plt.show()"
   ]
  },
  {
   "cell_type": "code",
   "execution_count": null,
   "id": "5575c34c",
   "metadata": {},
   "outputs": [],
   "source": [
    "PI_CI_df = pd.DataFrame()\n",
    "PI_CI_df['Sales_y'] = y_train\n",
    "PI_CI_df['TV_x'] = X_train\n",
    "PI_CI_df['beta_0'] = lr.params[0]\n",
    "PI_CI_df['beta_1'] = lr.params[1]\n",
    "PI_CI_df['Sales_pred'] = y_pred\n",
    "PI_CI_df['t_multiplier'] = stats.t.ppf(1-0.025, 138)\n",
    "PI_CI_df['MSE'] = MSE\n",
    "PI_CI_df['S_xx'] = s_xx\n",
    "PI_CI_df['Lower_CI_tail'] = c_low_train\n",
    "PI_CI_df['Upper_CI_tail'] = c_up_train\n",
    "PI_CI_df['Lower_PI_tail'] = p_low_train\n",
    "PI_CI_df['Upper_PI_tail'] = p_up_train\n",
    "PI_CI_df"
   ]
  },
  {
   "cell_type": "code",
   "execution_count": null,
   "id": "05984e97",
   "metadata": {},
   "outputs": [],
   "source": [
    "stats.t.ppf(1-0.025, 138)*np.sqrt(MSE)*np.sqrt(1/n+(X_train[116]-x_bar)**2/s_xx)"
   ]
  },
  {
   "cell_type": "code",
   "execution_count": null,
   "id": "b501eaad",
   "metadata": {},
   "outputs": [],
   "source": [
    "#t_factor = 1.997\n",
    "t_factor = stats.t.ppf(1-0.025, 138)\n",
    "#sigma_e_2 = 5.329\n",
    "print(200*0.7-2)\n",
    "sigma_e_2 = np.sum(res**2)/138\n",
    "x_bar = np.mean(X_train)\n",
    "\n",
    "#y_hat + t_mul*sqrt(sigma_e_2*(1/n + num/den))\n",
    "#x_h = X_train[37]\n",
    "x_h = 74.7\n",
    "num = (x_h-x_bar)**2\n",
    "den = np.sum((X_train-x_bar)**2)\n",
    "\n",
    "CI_lower = beta_0*1 + beta_1*x_h - t_factor*np.sqrt(sigma_e_2*(1/n+num/den))\n",
    "CI_upper = beta_0*1 + beta_1*x_h + t_factor*np.sqrt(sigma_e_2*(1/n+num/den))\n",
    "\n",
    "PI_lower = beta_0*1 + beta_1*x_h - t_factor*np.sqrt(sigma_e_2*(1+1/n+num/den))\n",
    "PI_upper = beta_0*1 + beta_1*x_h + t_factor*np.sqrt(sigma_e_2*(1+1/n+num/den))\n",
    "\n",
    "print(CI_lower)\n",
    "print(CI_upper)\n",
    "\n",
    "print(PI_lower)\n",
    "print(PI_upper)\n"
   ]
  },
  {
   "cell_type": "code",
   "execution_count": null,
   "id": "43e2b229",
   "metadata": {},
   "outputs": [],
   "source": [
    "19.043-0.487"
   ]
  },
  {
   "cell_type": "code",
   "execution_count": null,
   "id": "ae7d87b0",
   "metadata": {},
   "outputs": [],
   "source": [
    "# Plotting the histogram using the residual values\n",
    "fig = plt.figure()\n",
    "sns.distplot(res, bins = int(np.sqrt(n_train)), kde=True)\n",
    "plt.title('Error Terms', fontsize = 15)\n",
    "plt.xlabel('True_Sales - Predicted_Sales (Training)', fontsize = 12)\n",
    "plt.show()"
   ]
  },
  {
   "cell_type": "code",
   "execution_count": null,
   "id": "0a464db6",
   "metadata": {},
   "outputs": [],
   "source": [
    "# QQ-plot: Looking to see if the residuals follows a normal distribution using standardized normal dist quantiles\n",
    "sm.qqplot(res, line ='s')\n",
    "plt.title('QQ plot', fontsize=15)\n",
    "plt.show()"
   ]
  },
  {
   "cell_type": "code",
   "execution_count": null,
   "id": "c97ee8b6",
   "metadata": {},
   "outputs": [],
   "source": [
    "#?sm.qqplot"
   ]
  },
  {
   "cell_type": "code",
   "execution_count": null,
   "id": "fe414e50",
   "metadata": {},
   "outputs": [],
   "source": [
    "#?sns.distplot"
   ]
  },
  {
   "cell_type": "code",
   "execution_count": null,
   "id": "2062d252",
   "metadata": {},
   "outputs": [],
   "source": [
    "# Looking for any patterns in the residuals\n",
    "plt.scatter(X_train,res)\n",
    "plt.ylabel('Residuals')\n",
    "plt.xlabel('TV advertisements')\n",
    "plt.show()"
   ]
  },
  {
   "cell_type": "code",
   "execution_count": null,
   "id": "f104a8e7",
   "metadata": {},
   "outputs": [],
   "source": [
    "# Looking for any patterns in the residuals\n",
    "plt.scatter(X_train,res)\n",
    "plt.ylabel('Residuals')\n",
    "plt.xlabel('Sample number')\n",
    "plt.show()"
   ]
  },
  {
   "cell_type": "code",
   "execution_count": null,
   "id": "f382dc49",
   "metadata": {},
   "outputs": [],
   "source": [
    "import scipy\n",
    "A = scipy.stats.boxcox(y_train,lmbda=np.arange(-2,2,.1))\n",
    "A"
   ]
  },
  {
   "cell_type": "code",
   "execution_count": null,
   "id": "9c1751a2",
   "metadata": {},
   "outputs": [],
   "source": [
    "?A"
   ]
  },
  {
   "cell_type": "code",
   "execution_count": null,
   "id": "ca077678",
   "metadata": {},
   "outputs": [],
   "source": [
    "#?plt.scatter"
   ]
  },
  {
   "cell_type": "code",
   "execution_count": null,
   "id": "d283f71b",
   "metadata": {},
   "outputs": [],
   "source": [
    "\n",
    "# Adding a constant to X_test\n",
    "X_test_sm = sm.add_constant(X_test)\n",
    "\n",
    "# Predicting the y values corresponding to X_test_sm\n",
    "y_test_pred = lr.predict(X_test_sm)\n",
    "\n",
    "# Printing the first 15 predicted values\n",
    "y_test_pred"
   ]
  },
  {
   "cell_type": "code",
   "execution_count": null,
   "id": "2b656334",
   "metadata": {},
   "outputs": [],
   "source": [
    "?lr.predict"
   ]
  },
  {
   "cell_type": "code",
   "execution_count": null,
   "id": "57432bef",
   "metadata": {},
   "outputs": [],
   "source": [
    "# Importing r2_square\n",
    "from sklearn.metrics import r2_score\n",
    "\n",
    "res_test = y_test-y_test_pred\n",
    "SST = np.sum((y_test - np.mean(y_test))**2)\n",
    "SSE = np.sum(res_test**2)\n",
    "r_squared_manual = 1-SSE/SST\n",
    "print(r_squared_manual)\n",
    "n_test = len(y_test)\n",
    "MSE = SSE/(n_test-2)\n",
    "MST = SST/(n_test-1)\n",
    "r_squared_adjusted = 1-MSE/MST\n",
    "print(r_squared_adjusted)\n",
    "# Checking the R-squared value\n",
    "r_squared = r2_score(y_test, y_test_pred)\n",
    "r_squared"
   ]
  },
  {
   "cell_type": "code",
   "execution_count": null,
   "id": "d3ee0d89",
   "metadata": {},
   "outputs": [],
   "source": [
    "# Visualize the line on the test set\n",
    "plt.scatter(X_test, y_test)\n",
    "plt.plot(X_test, y_test_pred, 'r')\n",
    "plt.xlabel('True Sales (Testing)')\n",
    "plt.ylabel('Predicted Sales (Testing)')\n",
    "plt.show()"
   ]
  },
  {
   "cell_type": "code",
   "execution_count": null,
   "id": "c2d1cf03",
   "metadata": {},
   "outputs": [],
   "source": []
  }
 ],
 "metadata": {
  "kernelspec": {
   "display_name": "Python 3",
   "language": "python",
   "name": "python3"
  },
  "language_info": {
   "codemirror_mode": {
    "name": "ipython",
    "version": 3
   },
   "file_extension": ".py",
   "mimetype": "text/x-python",
   "name": "python",
   "nbconvert_exporter": "python",
   "pygments_lexer": "ipython3",
   "version": "3.8.8"
  }
 },
 "nbformat": 4,
 "nbformat_minor": 5
}
