{
 "cells": [
  {
   "cell_type": "code",
   "execution_count": 1,
   "metadata": {},
   "outputs": [],
   "source": [
    "# GLM & Classification\n",
    "import pandas as pd\n",
    "import numpy as np\n",
    "import matplotlib.pyplot as plt   # The default processing plot platform for python\n",
    "import statsmodels.api as sm      # Scipy or sklearn or statmodels.api\n",
    "import statsmodels.formula.api as smf # A way to do forward and backward selections\n",
    "import seaborn as sn  # A fancier way to plot things with nice animations and color patterns"
   ]
  },
  {
   "cell_type": "code",
   "execution_count": 2,
   "metadata": {},
   "outputs": [
    {
     "name": "stdout",
     "output_type": "stream",
     "text": [
      "Fall             int64\n",
      "Difficulty       int64\n",
      "Season        category\n",
      "intercept        int64\n",
      "dtype: object\n"
     ]
    },
    {
     "data": {
      "text/html": [
       "<div>\n",
       "<style scoped>\n",
       "    .dataframe tbody tr th:only-of-type {\n",
       "        vertical-align: middle;\n",
       "    }\n",
       "\n",
       "    .dataframe tbody tr th {\n",
       "        vertical-align: top;\n",
       "    }\n",
       "\n",
       "    .dataframe thead th {\n",
       "        text-align: right;\n",
       "    }\n",
       "</style>\n",
       "<table border=\"1\" class=\"dataframe\">\n",
       "  <thead>\n",
       "    <tr style=\"text-align: right;\">\n",
       "      <th></th>\n",
       "      <th>Fall</th>\n",
       "      <th>Difficulty</th>\n",
       "      <th>Season</th>\n",
       "      <th>intercept</th>\n",
       "    </tr>\n",
       "  </thead>\n",
       "  <tbody>\n",
       "    <tr>\n",
       "      <th>0</th>\n",
       "      <td>1</td>\n",
       "      <td>3</td>\n",
       "      <td>1</td>\n",
       "      <td>1</td>\n",
       "    </tr>\n",
       "    <tr>\n",
       "      <th>1</th>\n",
       "      <td>1</td>\n",
       "      <td>1</td>\n",
       "      <td>1</td>\n",
       "      <td>1</td>\n",
       "    </tr>\n",
       "    <tr>\n",
       "      <th>2</th>\n",
       "      <td>0</td>\n",
       "      <td>1</td>\n",
       "      <td>3</td>\n",
       "      <td>1</td>\n",
       "    </tr>\n",
       "    <tr>\n",
       "      <th>3</th>\n",
       "      <td>1</td>\n",
       "      <td>2</td>\n",
       "      <td>3</td>\n",
       "      <td>1</td>\n",
       "    </tr>\n",
       "    <tr>\n",
       "      <th>4</th>\n",
       "      <td>1</td>\n",
       "      <td>3</td>\n",
       "      <td>2</td>\n",
       "      <td>1</td>\n",
       "    </tr>\n",
       "    <tr>\n",
       "      <th>5</th>\n",
       "      <td>0</td>\n",
       "      <td>2</td>\n",
       "      <td>2</td>\n",
       "      <td>1</td>\n",
       "    </tr>\n",
       "    <tr>\n",
       "      <th>6</th>\n",
       "      <td>0</td>\n",
       "      <td>1</td>\n",
       "      <td>2</td>\n",
       "      <td>1</td>\n",
       "    </tr>\n",
       "    <tr>\n",
       "      <th>7</th>\n",
       "      <td>1</td>\n",
       "      <td>3</td>\n",
       "      <td>1</td>\n",
       "      <td>1</td>\n",
       "    </tr>\n",
       "    <tr>\n",
       "      <th>8</th>\n",
       "      <td>1</td>\n",
       "      <td>2</td>\n",
       "      <td>3</td>\n",
       "      <td>1</td>\n",
       "    </tr>\n",
       "    <tr>\n",
       "      <th>9</th>\n",
       "      <td>1</td>\n",
       "      <td>2</td>\n",
       "      <td>1</td>\n",
       "      <td>1</td>\n",
       "    </tr>\n",
       "    <tr>\n",
       "      <th>10</th>\n",
       "      <td>0</td>\n",
       "      <td>2</td>\n",
       "      <td>2</td>\n",
       "      <td>1</td>\n",
       "    </tr>\n",
       "    <tr>\n",
       "      <th>11</th>\n",
       "      <td>0</td>\n",
       "      <td>2</td>\n",
       "      <td>3</td>\n",
       "      <td>1</td>\n",
       "    </tr>\n",
       "    <tr>\n",
       "      <th>12</th>\n",
       "      <td>1</td>\n",
       "      <td>3</td>\n",
       "      <td>2</td>\n",
       "      <td>1</td>\n",
       "    </tr>\n",
       "    <tr>\n",
       "      <th>13</th>\n",
       "      <td>1</td>\n",
       "      <td>2</td>\n",
       "      <td>2</td>\n",
       "      <td>1</td>\n",
       "    </tr>\n",
       "    <tr>\n",
       "      <th>14</th>\n",
       "      <td>0</td>\n",
       "      <td>3</td>\n",
       "      <td>1</td>\n",
       "      <td>1</td>\n",
       "    </tr>\n",
       "  </tbody>\n",
       "</table>\n",
       "</div>"
      ],
      "text/plain": [
       "    Fall  Difficulty Season  intercept\n",
       "0      1           3      1          1\n",
       "1      1           1      1          1\n",
       "2      0           1      3          1\n",
       "3      1           2      3          1\n",
       "4      1           3      2          1\n",
       "5      0           2      2          1\n",
       "6      0           1      2          1\n",
       "7      1           3      1          1\n",
       "8      1           2      3          1\n",
       "9      1           2      1          1\n",
       "10     0           2      2          1\n",
       "11     0           2      3          1\n",
       "12     1           3      2          1\n",
       "13     1           2      2          1\n",
       "14     0           3      1          1"
      ]
     },
     "execution_count": 2,
     "metadata": {},
     "output_type": "execute_result"
    }
   ],
   "source": [
    "Data = pd.DataFrame() # Declare a panda\n",
    "\n",
    "Data['Fall'] = [1,1,0,1,1,0,0,1,1,1,0,0,1,1,0]\n",
    "Data['Difficulty'] = [3,1,1,2,3,2,1,3,2,2,2,2,3,2,3]\n",
    "Data['Season'] = [1,1,3,3,2,2,2,1,3,1,2,3,2,2,1]\n",
    "Data['Season'] = Data['Season'].astype('category')\n",
    "Data['intercept'] = [1,1,1,1,1,1,1,1,1,1,1,1,1,1,1]\n",
    "\n",
    "print(Data.dtypes)\n",
    "Data"
   ]
  },
  {
   "cell_type": "code",
   "execution_count": 3,
   "metadata": {},
   "outputs": [
    {
     "name": "stdout",
     "output_type": "stream",
     "text": [
      "Fall             int64\n",
      "Difficulty       int64\n",
      "Season        category\n",
      "2                uint8\n",
      "3                uint8\n",
      "intercept        int64\n",
      "dtype: object\n"
     ]
    },
    {
     "data": {
      "text/html": [
       "<div>\n",
       "<style scoped>\n",
       "    .dataframe tbody tr th:only-of-type {\n",
       "        vertical-align: middle;\n",
       "    }\n",
       "\n",
       "    .dataframe tbody tr th {\n",
       "        vertical-align: top;\n",
       "    }\n",
       "\n",
       "    .dataframe thead th {\n",
       "        text-align: right;\n",
       "    }\n",
       "</style>\n",
       "<table border=\"1\" class=\"dataframe\">\n",
       "  <thead>\n",
       "    <tr style=\"text-align: right;\">\n",
       "      <th></th>\n",
       "      <th>Fall</th>\n",
       "      <th>Difficulty</th>\n",
       "      <th>Season</th>\n",
       "      <th>2</th>\n",
       "      <th>3</th>\n",
       "      <th>intercept</th>\n",
       "    </tr>\n",
       "  </thead>\n",
       "  <tbody>\n",
       "    <tr>\n",
       "      <th>0</th>\n",
       "      <td>1</td>\n",
       "      <td>3</td>\n",
       "      <td>1</td>\n",
       "      <td>0</td>\n",
       "      <td>0</td>\n",
       "      <td>1</td>\n",
       "    </tr>\n",
       "    <tr>\n",
       "      <th>1</th>\n",
       "      <td>1</td>\n",
       "      <td>1</td>\n",
       "      <td>1</td>\n",
       "      <td>0</td>\n",
       "      <td>0</td>\n",
       "      <td>1</td>\n",
       "    </tr>\n",
       "    <tr>\n",
       "      <th>2</th>\n",
       "      <td>0</td>\n",
       "      <td>1</td>\n",
       "      <td>3</td>\n",
       "      <td>0</td>\n",
       "      <td>1</td>\n",
       "      <td>1</td>\n",
       "    </tr>\n",
       "    <tr>\n",
       "      <th>3</th>\n",
       "      <td>1</td>\n",
       "      <td>2</td>\n",
       "      <td>3</td>\n",
       "      <td>0</td>\n",
       "      <td>1</td>\n",
       "      <td>1</td>\n",
       "    </tr>\n",
       "    <tr>\n",
       "      <th>4</th>\n",
       "      <td>1</td>\n",
       "      <td>3</td>\n",
       "      <td>2</td>\n",
       "      <td>1</td>\n",
       "      <td>0</td>\n",
       "      <td>1</td>\n",
       "    </tr>\n",
       "    <tr>\n",
       "      <th>5</th>\n",
       "      <td>0</td>\n",
       "      <td>2</td>\n",
       "      <td>2</td>\n",
       "      <td>1</td>\n",
       "      <td>0</td>\n",
       "      <td>1</td>\n",
       "    </tr>\n",
       "    <tr>\n",
       "      <th>6</th>\n",
       "      <td>0</td>\n",
       "      <td>1</td>\n",
       "      <td>2</td>\n",
       "      <td>1</td>\n",
       "      <td>0</td>\n",
       "      <td>1</td>\n",
       "    </tr>\n",
       "    <tr>\n",
       "      <th>7</th>\n",
       "      <td>1</td>\n",
       "      <td>3</td>\n",
       "      <td>1</td>\n",
       "      <td>0</td>\n",
       "      <td>0</td>\n",
       "      <td>1</td>\n",
       "    </tr>\n",
       "    <tr>\n",
       "      <th>8</th>\n",
       "      <td>1</td>\n",
       "      <td>2</td>\n",
       "      <td>3</td>\n",
       "      <td>0</td>\n",
       "      <td>1</td>\n",
       "      <td>1</td>\n",
       "    </tr>\n",
       "    <tr>\n",
       "      <th>9</th>\n",
       "      <td>1</td>\n",
       "      <td>2</td>\n",
       "      <td>1</td>\n",
       "      <td>0</td>\n",
       "      <td>0</td>\n",
       "      <td>1</td>\n",
       "    </tr>\n",
       "    <tr>\n",
       "      <th>10</th>\n",
       "      <td>0</td>\n",
       "      <td>2</td>\n",
       "      <td>2</td>\n",
       "      <td>1</td>\n",
       "      <td>0</td>\n",
       "      <td>1</td>\n",
       "    </tr>\n",
       "    <tr>\n",
       "      <th>11</th>\n",
       "      <td>0</td>\n",
       "      <td>2</td>\n",
       "      <td>3</td>\n",
       "      <td>0</td>\n",
       "      <td>1</td>\n",
       "      <td>1</td>\n",
       "    </tr>\n",
       "    <tr>\n",
       "      <th>12</th>\n",
       "      <td>1</td>\n",
       "      <td>3</td>\n",
       "      <td>2</td>\n",
       "      <td>1</td>\n",
       "      <td>0</td>\n",
       "      <td>1</td>\n",
       "    </tr>\n",
       "    <tr>\n",
       "      <th>13</th>\n",
       "      <td>1</td>\n",
       "      <td>2</td>\n",
       "      <td>2</td>\n",
       "      <td>1</td>\n",
       "      <td>0</td>\n",
       "      <td>1</td>\n",
       "    </tr>\n",
       "    <tr>\n",
       "      <th>14</th>\n",
       "      <td>0</td>\n",
       "      <td>3</td>\n",
       "      <td>1</td>\n",
       "      <td>0</td>\n",
       "      <td>0</td>\n",
       "      <td>1</td>\n",
       "    </tr>\n",
       "  </tbody>\n",
       "</table>\n",
       "</div>"
      ],
      "text/plain": [
       "    Fall  Difficulty Season  2  3  intercept\n",
       "0      1           3      1  0  0          1\n",
       "1      1           1      1  0  0          1\n",
       "2      0           1      3  0  1          1\n",
       "3      1           2      3  0  1          1\n",
       "4      1           3      2  1  0          1\n",
       "5      0           2      2  1  0          1\n",
       "6      0           1      2  1  0          1\n",
       "7      1           3      1  0  0          1\n",
       "8      1           2      3  0  1          1\n",
       "9      1           2      1  0  0          1\n",
       "10     0           2      2  1  0          1\n",
       "11     0           2      3  0  1          1\n",
       "12     1           3      2  1  0          1\n",
       "13     1           2      2  1  0          1\n",
       "14     0           3      1  0  0          1"
      ]
     },
     "execution_count": 3,
     "metadata": {},
     "output_type": "execute_result"
    }
   ],
   "source": [
    "# Option 1\n",
    "Data = pd.DataFrame() # Declare a panda\n",
    "\n",
    "Data['Fall'] = [1,1,0,1,1,0,0,1,1,1,0,0,1,1,0]\n",
    "Data['Difficulty'] = [3,1,1,2,3,2,1,3,2,2,2,2,3,2,3]\n",
    "Data['Season'] = [1,1,3,3,2,2,2,1,3,1,2,3,2,2,1]\n",
    "Data['Season'] = Data['Season'].astype('category')\n",
    "Data = pd.concat((Data,pd.get_dummies(Data['Season'], drop_first=True)), axis=1) # Drop the baseline, already included in the intercept\n",
    "Data['intercept'] = [1,1,1,1,1,1,1,1,1,1,1,1,1,1,1]\n",
    "\n",
    "print(Data.dtypes)\n",
    "Data"
   ]
  },
  {
   "cell_type": "code",
   "execution_count": 4,
   "metadata": {},
   "outputs": [
    {
     "data": {
      "text/html": [
       "<table class=\"simpletable\">\n",
       "<caption>Generalized Linear Model Regression Results</caption>\n",
       "<tr>\n",
       "  <th>Dep. Variable:</th>         <td>Fall</td>       <th>  No. Observations:  </th>  <td>    15</td> \n",
       "</tr>\n",
       "<tr>\n",
       "  <th>Model:</th>                  <td>GLM</td>       <th>  Df Residuals:      </th>  <td>    11</td> \n",
       "</tr>\n",
       "<tr>\n",
       "  <th>Model Family:</th>        <td>Binomial</td>     <th>  Df Model:          </th>  <td>     3</td> \n",
       "</tr>\n",
       "<tr>\n",
       "  <th>Link Function:</th>         <td>logit</td>      <th>  Scale:             </th> <td>  1.0000</td>\n",
       "</tr>\n",
       "<tr>\n",
       "  <th>Method:</th>                <td>IRLS</td>       <th>  Log-Likelihood:    </th> <td> -8.7404</td>\n",
       "</tr>\n",
       "<tr>\n",
       "  <th>Date:</th>            <td>Wed, 06 Oct 2021</td> <th>  Deviance:          </th> <td>  17.481</td>\n",
       "</tr>\n",
       "<tr>\n",
       "  <th>Time:</th>                <td>14:27:13</td>     <th>  Pearson chi2:      </th>  <td>  17.6</td> \n",
       "</tr>\n",
       "<tr>\n",
       "  <th>No. Iterations:</th>          <td>4</td>        <th>                     </th>     <td> </td>   \n",
       "</tr>\n",
       "<tr>\n",
       "  <th>Covariance Type:</th>     <td>nonrobust</td>    <th>                     </th>     <td> </td>   \n",
       "</tr>\n",
       "</table>\n",
       "<table class=\"simpletable\">\n",
       "<tr>\n",
       "       <td></td>         <th>coef</th>     <th>std err</th>      <th>z</th>      <th>P>|z|</th>  <th>[0.025</th>    <th>0.975]</th>  \n",
       "</tr>\n",
       "<tr>\n",
       "  <th>intercept</th>  <td>   -0.8493</td> <td>    2.179</td> <td>   -0.390</td> <td> 0.697</td> <td>   -5.121</td> <td>    3.422</td>\n",
       "</tr>\n",
       "<tr>\n",
       "  <th>Difficulty</th> <td>    1.0108</td> <td>    0.896</td> <td>    1.128</td> <td> 0.259</td> <td>   -0.745</td> <td>    2.767</td>\n",
       "</tr>\n",
       "<tr>\n",
       "  <th>2</th>          <td>   -1.3460</td> <td>    1.478</td> <td>   -0.911</td> <td> 0.362</td> <td>   -4.243</td> <td>    1.551</td>\n",
       "</tr>\n",
       "<tr>\n",
       "  <th>3</th>          <td>   -0.9275</td> <td>    1.589</td> <td>   -0.584</td> <td> 0.560</td> <td>   -4.043</td> <td>    2.188</td>\n",
       "</tr>\n",
       "</table>"
      ],
      "text/plain": [
       "<class 'statsmodels.iolib.summary.Summary'>\n",
       "\"\"\"\n",
       "                 Generalized Linear Model Regression Results                  \n",
       "==============================================================================\n",
       "Dep. Variable:                   Fall   No. Observations:                   15\n",
       "Model:                            GLM   Df Residuals:                       11\n",
       "Model Family:                Binomial   Df Model:                            3\n",
       "Link Function:                  logit   Scale:                          1.0000\n",
       "Method:                          IRLS   Log-Likelihood:                -8.7404\n",
       "Date:                Wed, 06 Oct 2021   Deviance:                       17.481\n",
       "Time:                        14:27:13   Pearson chi2:                     17.6\n",
       "No. Iterations:                     4                                         \n",
       "Covariance Type:            nonrobust                                         \n",
       "==============================================================================\n",
       "                 coef    std err          z      P>|z|      [0.025      0.975]\n",
       "------------------------------------------------------------------------------\n",
       "intercept     -0.8493      2.179     -0.390      0.697      -5.121       3.422\n",
       "Difficulty     1.0108      0.896      1.128      0.259      -0.745       2.767\n",
       "2             -1.3460      1.478     -0.911      0.362      -4.243       1.551\n",
       "3             -0.9275      1.589     -0.584      0.560      -4.043       2.188\n",
       "==============================================================================\n",
       "\"\"\""
      ]
     },
     "execution_count": 4,
     "metadata": {},
     "output_type": "execute_result"
    }
   ],
   "source": [
    "# Construct a logistic regression model\n",
    "X = Data[['intercept','Difficulty',2,3]]\n",
    "Y = Data['Fall']\n",
    "logistic_model = sm.GLM(Y, X, family=sm.families.Binomial())\n",
    "logistic_model = logistic_model.fit()\n",
    "\n",
    "logistic_model.summary()"
   ]
  },
  {
   "cell_type": "code",
   "execution_count": 5,
   "metadata": {},
   "outputs": [
    {
     "name": "stdout",
     "output_type": "stream",
     "text": [
      "intercept    -0.849313\n",
      "Difficulty    1.010798\n",
      "2            -1.345984\n",
      "3            -0.927518\n",
      "dtype: float64\n",
      "2.1830796283287164\n"
     ]
    },
    {
     "data": {
      "text/plain": [
       "0.8987197322064785"
      ]
     },
     "execution_count": 5,
     "metadata": {},
     "output_type": "execute_result"
    }
   ],
   "source": [
    "print(logistic_model.params)               # Coefficients\n",
    "coeffs = logistic_model.params.values      # Coefficients as an array for np.dot\n",
    "\n",
    "X_tst = [1,3,0,0]                          # Values to test\n",
    "y_pred = np.dot(X_tst,coeffs)              # Logit(p) = X*beta\n",
    "print(y_pred)\n",
    "\n",
    "p_pred = 1/(1+np.exp(-y_pred))             # Probability of Y = 1\n",
    "p_pred\n"
   ]
  },
  {
   "cell_type": "code",
   "execution_count": 6,
   "metadata": {},
   "outputs": [
    {
     "name": "stdout",
     "output_type": "stream",
     "text": [
      "[ 2.18307963  0.16148426 -0.76603337  0.24476431  0.83709528 -0.17370241\n",
      " -1.18450009  2.18307963  0.24476431  1.17228194 -0.17370241  0.24476431\n",
      "  0.83709528 -0.17370241  2.18307963]\n",
      "\n",
      "\n",
      " Individualized Log-likelihood\n"
     ]
    },
    {
     "data": {
      "text/plain": [
       "0    -0.106784\n",
       "1    -0.615661\n",
       "2    -0.381755\n",
       "3    -0.578235\n",
       "4    -0.359747\n",
       "5    -0.610063\n",
       "6    -0.266892\n",
       "7    -0.106784\n",
       "8    -0.578235\n",
       "9    -0.269767\n",
       "10   -0.610063\n",
       "11   -0.822999\n",
       "12   -0.359747\n",
       "13   -0.783765\n",
       "14   -2.289864\n",
       "Name: Fall, dtype: float64"
      ]
     },
     "execution_count": 6,
     "metadata": {},
     "output_type": "execute_result"
    }
   ],
   "source": [
    "X_tst = X                                  # Values to test\n",
    "y_pred = np.dot(X_tst,coeffs)              # Logit(p) = X*beta\n",
    "print(y_pred)\n",
    "\n",
    "p_pred = 1/(1+np.exp(-y_pred))             # Probability of Y = 1\n",
    "p_pred\n",
    "\n",
    "# Individual Log-likelihood calculation\n",
    "print('\\n\\n Individualized Log-likelihood')\n",
    "Y*np.log(p_pred) + (1-Y)*np.log(1-p_pred)"
   ]
  },
  {
   "cell_type": "code",
   "execution_count": 7,
   "metadata": {},
   "outputs": [
    {
     "name": "stdout",
     "output_type": "stream",
     "text": [
      "\n",
      "Log-likelihood = Sum of individualized log-likelihoods\n"
     ]
    },
    {
     "data": {
      "text/plain": [
       "-8.740360755197806"
      ]
     },
     "execution_count": 7,
     "metadata": {},
     "output_type": "execute_result"
    }
   ],
   "source": [
    "# Sum of the log-likelihoods\n",
    "print('\\nLog-likelihood = Sum of individualized log-likelihoods')\n",
    "np.sum(Y*np.log(p_pred) + (1-Y)*np.log(1-p_pred))"
   ]
  },
  {
   "cell_type": "code",
   "execution_count": 8,
   "metadata": {},
   "outputs": [
    {
     "data": {
      "text/plain": [
       "Text(0, 0.5, 'Probability = p_pred = 1/(1+exp(-X*beta))')"
      ]
     },
     "execution_count": 8,
     "metadata": {},
     "output_type": "execute_result"
    },
    {
     "data": {
      "image/png": "[encoded data removed]",
      "text/plain": [
       "<Figure size 432x288 with 1 Axes>"
      ]
     },
     "metadata": {
      "needs_background": "light"
     },
     "output_type": "display_data"
    }
   ],
   "source": [
    "# Making sense of how good is the logistic regression performing\n",
    "plt.plot(y_pred,p_pred,'.')\n",
    "plt.xlabel('Logit=X*beta')\n",
    "plt.ylabel('Probability = p_pred = 1/(1+exp(-X*beta))')"
   ]
  },
  {
   "cell_type": "code",
   "execution_count": 9,
   "metadata": {},
   "outputs": [
    {
     "data": {
      "image/png": "[encoded data removed]",
      "text/plain": [
       "<Figure size 432x288 with 1 Axes>"
      ]
     },
     "metadata": {
      "needs_background": "light"
     },
     "output_type": "display_data"
    }
   ],
   "source": [
    "# Making sense of how good is the logistic regression performing\n",
    "# Plot the classifier\n",
    "Y_spread = np.arange(-9,9,0.1)\n",
    "plt.plot(Y_spread,1/(1+np.exp(-Y_spread)),'r',y_pred,p_pred,'b.')\n",
    "plt.xlabel('Logit=X*beta')\n",
    "plt.ylabel('Probability = p_pred = 1/(1+exp(-X*beta))');\n",
    "\n",
    "# The training classifications are in the poor region of the classifier, indiciating that the model is not reliable"
   ]
  },
  {
   "cell_type": "code",
   "execution_count": 10,
   "metadata": {},
   "outputs": [
    {
     "name": "stdout",
     "output_type": "stream",
     "text": [
      "[0.6 0.6 0.6 0.6 0.6 0.6 0.6 0.6 0.6 0.6 0.6 0.6 0.6 0.6 0.6]\n",
      "\n",
      "\n",
      " Null model: Individualized Log-likelihood\n"
     ]
    },
    {
     "data": {
      "text/plain": [
       "0    -0.510826\n",
       "1    -0.510826\n",
       "2    -0.916291\n",
       "3    -0.510826\n",
       "4    -0.510826\n",
       "5    -0.916291\n",
       "6    -0.916291\n",
       "7    -0.510826\n",
       "8    -0.510826\n",
       "9    -0.510826\n",
       "10   -0.916291\n",
       "11   -0.916291\n",
       "12   -0.510826\n",
       "13   -0.510826\n",
       "14   -0.916291\n",
       "Name: Fall, dtype: float64"
      ]
     },
     "execution_count": 10,
     "metadata": {},
     "output_type": "execute_result"
    }
   ],
   "source": [
    "# Another test is the G-statistic test\n",
    "# Null model likelihood\n",
    "n = len(Y)\n",
    "n_pos = np.sum(Y)\n",
    "\n",
    "p_pos_null = np.ones(n)*n_pos/n\n",
    "\n",
    "print(p_pos_null)\n",
    "\n",
    "# Individual Log-likelihood calculation\n",
    "print('\\n\\n Null model: Individualized Log-likelihood')\n",
    "Y*np.log(p_pos_null) + (1-Y)*np.log(1-p_pos_null)"
   ]
  },
  {
   "cell_type": "code",
   "execution_count": 11,
   "metadata": {},
   "outputs": [
    {
     "name": "stdout",
     "output_type": "stream",
     "text": [
      "\n",
      "Log-likelihood = Sum of individualized log-likelihoods\n"
     ]
    },
    {
     "ename": "NameError",
     "evalue": "name 'p_null' is not defined",
     "output_type": "error",
     "traceback": [
      "\u001b[1;31m---------------------------------------------------------------------------\u001b[0m",
      "\u001b[1;31mNameError\u001b[0m                                 Traceback (most recent call last)",
      "\u001b[1;32m<ipython-input-11-f6ed93ad5888>\u001b[0m in \u001b[0;36m<module>\u001b[1;34m\u001b[0m\n\u001b[0;32m      1\u001b[0m \u001b[1;31m# Sum of the log-likelihoods\u001b[0m\u001b[1;33m\u001b[0m\u001b[1;33m\u001b[0m\u001b[1;33m\u001b[0m\u001b[0m\n\u001b[0;32m      2\u001b[0m \u001b[0mprint\u001b[0m\u001b[1;33m(\u001b[0m\u001b[1;34m'\\nLog-likelihood = Sum of individualized log-likelihoods'\u001b[0m\u001b[1;33m)\u001b[0m\u001b[1;33m\u001b[0m\u001b[1;33m\u001b[0m\u001b[0m\n\u001b[1;32m----> 3\u001b[1;33m \u001b[0mprint\u001b[0m\u001b[1;33m(\u001b[0m\u001b[0mnp\u001b[0m\u001b[1;33m.\u001b[0m\u001b[0msum\u001b[0m\u001b[1;33m(\u001b[0m\u001b[0mY\u001b[0m\u001b[1;33m*\u001b[0m\u001b[0mnp\u001b[0m\u001b[1;33m.\u001b[0m\u001b[0mlog\u001b[0m\u001b[1;33m(\u001b[0m\u001b[0mp_null\u001b[0m\u001b[1;33m)\u001b[0m \u001b[1;33m+\u001b[0m \u001b[1;33m(\u001b[0m\u001b[1;36m1\u001b[0m\u001b[1;33m-\u001b[0m\u001b[0mY\u001b[0m\u001b[1;33m)\u001b[0m\u001b[1;33m*\u001b[0m\u001b[0mnp\u001b[0m\u001b[1;33m.\u001b[0m\u001b[0mlog\u001b[0m\u001b[1;33m(\u001b[0m\u001b[1;36m1\u001b[0m\u001b[1;33m-\u001b[0m\u001b[0mp_null\u001b[0m\u001b[1;33m)\u001b[0m\u001b[1;33m)\u001b[0m\u001b[1;33m)\u001b[0m\u001b[1;33m\u001b[0m\u001b[1;33m\u001b[0m\u001b[0m\n\u001b[0m\u001b[0;32m      4\u001b[0m \u001b[1;33m\u001b[0m\u001b[0m\n\u001b[0;32m      5\u001b[0m \u001b[1;33m\u001b[0m\u001b[0m\n",
      "\u001b[1;31mNameError\u001b[0m: name 'p_null' is not defined"
     ]
    }
   ],
   "source": [
    "# Sum of the log-likelihoods\n",
    "print('\\nLog-likelihood = Sum of individualized log-likelihoods')\n",
    "print(np.sum(Y*np.log(p_null) + (1-Y)*np.log(1-p_null)))\n",
    "\n",
    "\n",
    "G = 2*np.sum(Y*np.log(p_pred) + (1-Y)*np.log(1-p_pred))-2*np.sum(Y*np.log(p_null) + (1-Y)*np.log(1-p_null))\n",
    "print('\\nG-value =', G)\n",
    "\n",
    "from scipy.stats import chi2\n",
    "p_value = chi2.sf(G, df=np.shape(X)[1]-1)\n",
    "\n",
    "print('\\np_value = ' , p_value)\n",
    "\n",
    "print('G from Chi2 Distribution = ', chi2.ppf(0.95,df=3))"
   ]
  },
  {
   "cell_type": "code",
   "execution_count": null,
   "metadata": {},
   "outputs": [],
   "source": []
  }
 ],
 "metadata": {
  "kernelspec": {
   "display_name": "Python 3",
   "language": "python",
   "name": "python3"
  },
  "language_info": {
   "codemirror_mode": {
    "name": "ipython",
    "version": 3
   },
   "file_extension": ".py",
   "mimetype": "text/x-python",
   "name": "python",
   "nbconvert_exporter": "python",
   "pygments_lexer": "ipython3",
   "version": "3.8.8"
  }
 },
 "nbformat": 4,
 "nbformat_minor": 2
}
